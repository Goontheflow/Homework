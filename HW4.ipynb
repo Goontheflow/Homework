{
 "cells": [
  {
   "cell_type": "code",
   "execution_count": 1,
   "metadata": {},
   "outputs": [
    {
     "name": "stderr",
     "output_type": "stream",
     "text": [
      "[nltk_data] Downloading package wordnet to /Users/maria/nltk_data...\n",
      "[nltk_data]   Package wordnet is already up-to-date!\n",
      "[nltk_data] Downloading package averaged_perceptron_tagger to\n",
      "[nltk_data]     /Users/maria/nltk_data...\n",
      "[nltk_data]   Package averaged_perceptron_tagger is already up-to-\n",
      "[nltk_data]       date!\n",
      "[nltk_data] Downloading package universal_tagset to\n",
      "[nltk_data]     /Users/maria/nltk_data...\n",
      "[nltk_data]   Package universal_tagset is already up-to-date!\n"
     ]
    },
    {
     "data": {
      "text/plain": [
       "True"
      ]
     },
     "execution_count": 1,
     "metadata": {},
     "output_type": "execute_result"
    }
   ],
   "source": [
    "import nltk\n",
    "import ssl\n",
    "\n",
    "try:\n",
    "    _create_unverified_https_context = ssl._create_unverified_context\n",
    "except AttributeError:\n",
    "    pass\n",
    "else:\n",
    "    ssl._create_default_https_context = _create_unverified_https_context\n",
    "\n",
    "nltk.download('wordnet')\n",
    "nltk.download('averaged_perceptron_tagger')\n",
    "nltk.download('universal_tagset')"
   ]
  },
  {
   "cell_type": "code",
   "execution_count": 2,
   "metadata": {},
   "outputs": [],
   "source": [
    "%matplotlib inline\n",
    "import matplotlib.pyplot as plt"
   ]
  },
  {
   "cell_type": "code",
   "execution_count": 3,
   "metadata": {},
   "outputs": [],
   "source": [
    "from nltk.tokenize import word_tokenize\n",
    "from nltk import WordNetLemmatizer\n",
    "wnl = WordNetLemmatizer()"
   ]
  },
  {
   "cell_type": "code",
   "execution_count": 4,
   "metadata": {},
   "outputs": [],
   "source": [
    "data = ''\n",
    "\n",
    "with open('Harry1.txt', 'r') as f:\n",
    "    data = f.read()\n",
    "\n",
    "stopp = \"\"\"\"!\\\"/«#%$?,.'’:;(»)@&[{]}%*_<>+=\"\"\"\n",
    "\n",
    "raw = data.split('—')\n",
    "raw = [w.strip('—') for w in raw]\n",
    "data = ' '.join(raw)\n",
    "\n",
    "raw = data.split()\n",
    "raw = [word.strip(stopp).lower() for word in raw]\n",
    "ans = [wnl.lemmatize(word, pos='v') for word in raw]\n",
    "\n",
    "with open('Harry1_lemm.txt', 'w') as f:\n",
    "    f.write(' '.join(ans))"
   ]
  },
  {
   "cell_type": "code",
   "execution_count": 25,
   "metadata": {},
   "outputs": [
    {
     "data": {
      "image/png": "[encoded data removed]",
      "text/plain": [
       "<Figure size 432x288 with 1 Axes>"
      ]
     },
     "metadata": {
      "needs_background": "light"
     },
     "output_type": "display_data"
    }
   ],
   "source": [
    "import collections\n",
    "import numpy as np\n",
    "np.random.seed(19680801)\n",
    "\n",
    "c = collections.Counter()\n",
    "\n",
    "for word in ans:\n",
    "    c[word] += 1\n",
    "\n",
    "fig, ax = plt.subplots()\n",
    "\n",
    "N = 10 #кол-во слов для отображения\n",
    "\n",
    "X = [x for x in range(N)]\n",
    "Y = [y/len(ans) for y in c.values()]\n",
    "ax.set_xticks(np.arange(N))\n",
    "ax.set_xticklabels([w[0] for w in c.most_common(N)])\n",
    "ax.set_xlabel('Слова')\n",
    "ax.set_ylabel('Частотность')\n",
    "\n",
    "for i in range(len(X)):\n",
    "    plt.bar(X[i], Y[i])\n",
    "\n",
    "plt.show()"
   ]
  },
  {
   "cell_type": "code",
   "execution_count": 26,
   "metadata": {},
   "outputs": [
    {
     "data": {
      "image/png": "[encoded data removed]",
      "text/plain": [
       "<Figure size 432x288 with 1 Axes>"
      ]
     },
     "metadata": {
      "needs_background": "light"
     },
     "output_type": "display_data"
    }
   ],
   "source": [
    "from nltk.corpus import stopwords\n",
    "\n",
    "sw = stopwords.words('english')\n",
    "filtered_data = [w for w in ans if w not in sw]\n",
    "\n",
    "fig, ax = plt.subplots()\n",
    "\n",
    "c2 = collections.Counter()\n",
    "\n",
    "for word in filtered_data:\n",
    "    if word != '':\n",
    "        c2[word] += 1\n",
    "\n",
    "X = [x for x in range(30)]\n",
    "\n",
    "mst_c = c2.most_common(30)\n",
    "\n",
    "for i in range(len(X)):\n",
    "    plt.bar(X[i], mst_c[i][1])\n",
    "ax.set_xlabel('Слова')\n",
    "ax.set_ylabel('Относительная частота')\n",
    "ax.set_xticks(np.arange(len(mst_c)))\n",
    "ax.set_xticklabels([w[0] for w in mst_c])\n",
    "\n",
    "plt.show()"
   ]
  },
  {
   "cell_type": "code",
   "execution_count": null,
   "metadata": {},
   "outputs": [],
   "source": []
  }
 ],
 "metadata": {
  "kernelspec": {
   "display_name": "Python 3",
   "language": "python",
   "name": "python3"
  },
  "language_info": {
   "codemirror_mode": {
    "name": "ipython",
    "version": 3
   },
   "file_extension": ".py",
   "mimetype": "text/x-python",
   "name": "python",
   "nbconvert_exporter": "python",
   "pygments_lexer": "ipython3",
   "version": "3.6.4"
  }
 },
 "nbformat": 4,
 "nbformat_minor": 2
}
