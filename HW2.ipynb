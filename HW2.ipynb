{
 "cells": [
  {
   "cell_type": "code",
   "execution_count": 51,
   "metadata": {},
   "outputs": [],
   "source": [
    "text = 'варкалось хливкие шорьки пырялись по наве и хрюкотали зелюки как мюмзики в мове о бойся бармаглота сын он так свирлеп и дик а в глyще рымит исполин злопастный брандашмыг'"
   ]
  },
  {
   "cell_type": "code",
   "execution_count": 52,
   "metadata": {},
   "outputs": [],
   "source": [
    "list_of_words = text.split() #разбиваю текст на слова"
   ]
  },
  {
   "cell_type": "code",
   "execution_count": 66,
   "metadata": {},
   "outputs": [
    {
     "name": "stdout",
     "output_type": "stream",
     "text": [
      "варкалось хливкие\n",
      "хливкие шорьки\n",
      "шорьки пырялись\n",
      "пырялись по\n",
      "по наве\n",
      "наве и\n",
      "и хрюкотали\n",
      "хрюкотали зелюки\n",
      "зелюки как\n",
      "как мюмзики\n",
      "мюмзики в\n",
      "в мове\n",
      "мове о\n",
      "о бойся\n",
      "бойся бармаглота\n",
      "бармаглота сын\n",
      "сын он\n",
      "он так\n",
      "так свирлеп\n",
      "свирлеп и\n",
      "и дик\n",
      "дик а\n",
      "а в\n",
      "в глyще\n",
      "глyще рымит\n",
      "рымит исполин\n",
      "исполин злопастный\n",
      "злопастный брандашмыг\n"
     ]
    }
   ],
   "source": [
    "bigrams = []  \n",
    "for i, word in enumerate(list_of_words): #получаю индекс и слово\n",
    "    if i < len(list_of_words) -1:\n",
    "        bigram = word + ' ' + list_of_words[i+1] #вывожу сначала слово, полученное в цикле, а затем след. за ним\n",
    "        print(bigram)\n",
    "        bigrams.append(bigram)"
   ]
  },
  {
   "cell_type": "code",
   "execution_count": 73,
   "metadata": {},
   "outputs": [],
   "source": [
    "some_words = ''''Несчастная кошка порезала лапу- \n",
    "Сидит, и ни шагу не может ступить.\n",
    "Скорей, чтобы вылечить кошкину лапу\n",
    "Воздушные шарики надо купить!\n",
    "\n",
    "И сразу столпился народ на дороге-\n",
    "Шумит, и кричит, и на кошку глядит.\n",
    "А кошка отчасти идет по дороге,\n",
    "Отчасти по воздуху плавно летит!'''"
   ]
  },
  {
   "cell_type": "code",
   "execution_count": 74,
   "metadata": {},
   "outputs": [
    {
     "name": "stdout",
     "output_type": "stream",
     "text": [
      "'Несчастная кошка порезала лапу- \n",
      "Сидит, и ни шагу не может ступить.\n",
      "Скорей, чтобы вылечить кошкину лапу\n",
      "Воздушные шарики надо купить!\n",
      "\n",
      "И сразу столпился народ на дороге-\n",
      "Шумит, и кричит, и на кошку глядит.\n",
      "А кошка отчасти идет по дороге,\n",
      "Отчасти по воздуху плавно летит!\n",
      "\n",
      "271\n"
     ]
    }
   ],
   "source": [
    "print(some_words)\n",
    "print()\n",
    "print(len(some_words))"
   ]
  },
  {
   "cell_type": "code",
   "execution_count": 77,
   "metadata": {},
   "outputs": [],
   "source": [
    "some_words1 = [word.strip('. , ! -').lower() for word in some_words.split()]\n",
    "some_words1 = [word.lower() for word in some_words1]"
   ]
  },
  {
   "cell_type": "code",
   "execution_count": 78,
   "metadata": {},
   "outputs": [
    {
     "name": "stdout",
     "output_type": "stream",
     "text": [
      "\n",
      "[\"'несчастная\", 'кошка', 'порезала', 'лапу', 'сидит', 'и', 'ни', 'шагу', 'не', 'может', 'ступить', 'скорей', 'чтобы', 'вылечить', 'кошкину', 'лапу', 'воздушные', 'шарики', 'надо', 'купить', 'и', 'сразу', 'столпился', 'народ', 'на', 'дороге', 'шумит', 'и', 'кричит', 'и', 'на', 'кошку', 'глядит', 'а', 'кошка', 'отчасти', 'идет', 'по', 'дороге', 'отчасти', 'по', 'воздуху', 'плавно', 'летит']\n",
      "\n",
      "44\n"
     ]
    }
   ],
   "source": [
    "print()\n",
    "print(some_words1)\n",
    "print()\n",
    "print(len(some_words1))"
   ]
  },
  {
   "cell_type": "code",
   "execution_count": null,
   "metadata": {},
   "outputs": [],
   "source": []
  }
 ],
 "metadata": {
  "kernelspec": {
   "display_name": "Python 3",
   "language": "python",
   "name": "python3"
  },
  "language_info": {
   "codemirror_mode": {
    "name": "ipython",
    "version": 3
   },
   "file_extension": ".py",
   "mimetype": "text/x-python",
   "name": "python",
   "nbconvert_exporter": "python",
   "pygments_lexer": "ipython3",
   "version": "3.6.4"
  }
 },
 "nbformat": 4,
 "nbformat_minor": 2
}
